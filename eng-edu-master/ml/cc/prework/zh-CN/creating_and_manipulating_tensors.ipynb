{
  "nbformat": 4, 
  "nbformat_minor": 0, 
  "metadata": {
    "colab": {
      "name": "creating_and_manipulating_tensors.ipynb", 
      "version": "0.3.2", 
      "views": {}, 
      "default_view": {}, 
      "collapsed_sections": [
        "EYzU56M4MG_x", 
        "Kt7aojXkR_qS", 
        "copyright-notice"
      ]
    }
  }, 
  "cells": [
    {
      "metadata": {
        "id": "copyright-notice", 
        "colab_type": "text"
      }, 
      "cell_type": "markdown", 
      "source": [
        "#### Copyright 2017 Google LLC."
      ]
    }, 
    {
      "metadata": {
        "cellView": "both", 
        "colab_type": "code",
	"id": "copyright-notice2",
        "colab": {
          "autoexec": {
            "startup": false, 
            "wait_interval": 0
          }
        }
      }, 
      "execution_count": 0, 
      "cell_type": "code", 
      "outputs": [], 
      "source": [
        "# Licensed under the Apache License, Version 2.0 (the \"License\");\n", 
        "# you may not use this file except in compliance with the License.\n", 
        "# You may obtain a copy of the License at\n", 
        "#\n", 
        "# https://www.apache.org/licenses/LICENSE-2.0\n", 
        "#\n", 
        "# Unless required by applicable law or agreed to in writing, software\n", 
        "# distributed under the License is distributed on an \"AS IS\" BASIS,\n", 
        "# WITHOUT WARRANTIES OR CONDITIONS OF ANY KIND, either express or implied.\n", 
        "# See the License for the specific language governing permissions and\n", 
        "# limitations under the License."
      ]
    }, 
    {
      "cell_type": "markdown", 
      "metadata": {
        "id": "P0bQXjp499sl", 
        "colab_type": "text"
      }, 
      "source": [
        " # \u521b\u5efa\u548c\u64cd\u63a7\u5f20\u91cf"
      ]
    }, 
    {
      "cell_type": "markdown", 
      "metadata": {
        "id": "I3BCiWJiCGsv", 
        "colab_type": "text"
      }, 
      "source": [
        " **\u5b66\u4e60\u76ee\u6807\uff1a**\n", 
        "  * \u521d\u59cb\u5316 TensorFlow `\u53d8\u91cf`\u5e76\u8d4b\u503c\n", 
        "  * \u521b\u5efa\u548c\u64cd\u63a7\u5f20\u91cf\n", 
        "  * \u56de\u5fc6\u7ebf\u6027\u4ee3\u6570\u4e2d\u7684\u52a0\u6cd5\u548c\u4e58\u6cd5\u77e5\u8bc6\uff08\u5982\u679c\u8fd9\u4e9b\u5185\u5bb9\u5bf9\u60a8\u6765\u8bf4\u5f88\u964c\u751f\uff0c\u8bf7\u53c2\u9605\u77e9\u9635[\u52a0\u6cd5](https://en.wikipedia.org/wiki/Matrix_addition)\u548c[\u4e58\u6cd5](https://en.wikipedia.org/wiki/Matrix_multiplication)\u7b80\u4ecb\uff09\n", 
        "  * \u719f\u6089\u57fa\u672c\u7684 TensorFlow \u6570\u5b66\u548c\u6570\u7ec4\u8fd0\u7b97"
      ]
    }, 
    {
      "metadata": {
        "id": "85evKRsOIC5a", 
        "colab_type": "code", 
        "colab": {
          "autoexec": {
            "startup": false, 
            "wait_interval": 0
          }
        }
      }, 
      "source": [
        "import tensorflow as tf"
      ], 
      "cell_type": "code", 
      "execution_count": 0, 
      "outputs": []
    }, 
    {
      "cell_type": "markdown", 
      "metadata": {
        "id": "PT1sorfH-DdQ", 
        "colab_type": "text"
      }, 
      "source": [
        " ## \u77e2\u91cf\u52a0\u6cd5\n", 
        "\n", 
        "\u60a8\u53ef\u4ee5\u5bf9\u5f20\u91cf\u6267\u884c\u5f88\u591a\u5178\u578b\u6570\u5b66\u8fd0\u7b97 ([TF API](https://www.tensorflow.org/api_guides/python/math_ops))\u3002\u4ee5\u4e0b\u4ee3\u7801\u4f1a\u521b\u5efa\u548c\u64cd\u63a7\u4e24\u4e2a\u77e2\u91cf\uff08\u4e00\u7ef4\u5f20\u91cf\uff09\uff0c\u6bcf\u4e2a\u77e2\u91cf\u6b63\u597d\u516d\u4e2a\u5143\u7d20\uff1a"
      ]
    }, 
    {
      "metadata": {
        "id": "ng37e6ur-GZo", 
        "colab_type": "code", 
        "colab": {
          "autoexec": {
            "startup": false, 
            "wait_interval": 0
          }
        }
      }, 
      "source": [
        "with tf.Graph().as_default():\n", 
        "  # Create a six-element vector (1-D tensor).\n", 
        "  primes = tf.constant([2, 3, 5, 7, 11, 13], dtype=tf.int32)\n", 
        "\n", 
        "  # Create another six-element vector. Each element in the vector will be\n", 
        "  # initialized to 1. The first argument is the shape of the tensor (more\n", 
        "  # on shapes below).\n", 
        "  ones = tf.ones([6], dtype=tf.int32)\n", 
        "\n", 
        "  # Add the two vectors. The resulting tensor is a six-element vector.\n", 
        "  just_beyond_primes = tf.add(primes, ones)\n", 
        "\n", 
        "  # Create a session to run the default graph.\n", 
        "  with tf.Session() as sess:\n", 
        "    print just_beyond_primes.eval()"
      ], 
      "cell_type": "code", 
      "execution_count": 0, 
      "outputs": []
    }, 
    {
      "cell_type": "markdown", 
      "metadata": {
        "id": "fVvaXzzMGZid", 
        "colab_type": "text"
      }, 
      "source": [
        " ### \u5f20\u91cf\u5f62\u72b6\n", 
        "\n", 
        "\u5f62\u72b6\u7528\u4e8e\u63cf\u8ff0\u5f20\u91cf\u7ef4\u5ea6\u7684\u5927\u5c0f\u548c\u6570\u91cf\u3002\u5f20\u91cf\u7684\u5f62\u72b6\u8868\u793a\u4e3a`\u5217\u8868`\uff0c\u5176\u4e2d\u7b2c `i` \u4e2a\u5143\u7d20\u8868\u793a\u7ef4\u5ea6 `i` \u7684\u5927\u5c0f\u3002\u5217\u8868\u7684\u957f\u5ea6\u8868\u793a\u5f20\u91cf\u7684\u9636\uff08\u5373\u7ef4\u6570\uff09\u3002\n", 
        "\n", 
        "\u6709\u5173\u8be6\u60c5\uff0c\u8bf7\u53c2\u9605 [TensorFlow \u6587\u6863](https://www.tensorflow.org/programmers_guide/tensors#shape)\u3002\n", 
        "\n", 
        "\u4ee5\u4e0b\u662f\u4e00\u4e9b\u57fa\u672c\u793a\u4f8b\uff1a"
      ]
    }, 
    {
      "metadata": {
        "id": "PWzvJnIAH_cF", 
        "colab_type": "code", 
        "colab": {
          "autoexec": {
            "startup": false, 
            "wait_interval": 0
          }
        }
      }, 
      "source": [
        "with tf.Graph().as_default():\n", 
        "  # A scalar (0-D tensor).\n", 
        "  scalar = tf.zeros([])\n", 
        "\n", 
        "  # A vector with 3 elements.\n", 
        "  vector = tf.zeros([3])\n", 
        "\n", 
        "  # A matrix with 2 rows and 3 columns.\n", 
        "  matrix = tf.zeros([2, 3])\n", 
        "\n", 
        "  with tf.Session() as sess:\n", 
        "    print 'scalar has shape', scalar.get_shape(), 'and value:\\n', scalar.eval()\n", 
        "    print 'vector has shape', vector.get_shape(), 'and value:\\n', vector.eval()\n", 
        "    print 'matrix has shape', matrix.get_shape(), 'and value:\\n', matrix.eval()\n"
      ], 
      "cell_type": "code", 
      "execution_count": 0, 
      "outputs": []
    }, 
    {
      "cell_type": "markdown", 
      "metadata": {
        "id": "musamrLavR5S", 
        "colab_type": "text"
      }, 
      "source": [
        " ### \u5e7f\u64ad\n", 
        "\n", 
        "\u5728\u6570\u5b66\u4e2d\uff0c\u60a8\u53ea\u80fd\u5bf9\u5f62\u72b6\u76f8\u540c\u7684\u5f20\u91cf\u6267\u884c\u5143\u7d20\u7ea7\u8fd0\u7b97\uff08\u4f8b\u5982\uff0c*\u76f8\u52a0*\u548c*\u7b49\u4e8e*\uff09\u3002\u4e0d\u8fc7\uff0c\u5728 TensorFlow \u4e2d\uff0c\u60a8\u53ef\u4ee5\u5bf9\u5f20\u91cf\u6267\u884c\u4f20\u7edf\u610f\u4e49\u4e0a\u4e0d\u53ef\u884c\u7684\u8fd0\u7b97\u3002TensorFlow \u652f\u6301**\u5e7f\u64ad**\uff08\u4e00\u79cd\u501f\u9274\u81ea Numpy \u7684\u6982\u5ff5\uff09\u3002\u5229\u7528\u5e7f\u64ad\uff0c\u5143\u7d20\u7ea7\u8fd0\u7b97\u4e2d\u7684\u8f83\u5c0f\u6570\u7ec4\u4f1a\u589e\u5927\u5230\u4e0e\u8f83\u5927\u6570\u7ec4\u5177\u6709\u76f8\u540c\u7684\u5f62\u72b6\u3002\u4f8b\u5982\uff0c\u901a\u8fc7\u5e7f\u64ad\uff1a\n", 
        "\n", 
        "* \u5982\u679c\u6307\u4ee4\u9700\u8981\u5927\u5c0f\u4e3a `[6]` \u7684\u5f20\u91cf\uff0c\u5219\u5927\u5c0f\u4e3a `[1]` \u6216 `[]` \u7684\u5f20\u91cf\u53ef\u4ee5\u4f5c\u4e3a\u8fd0\u7b97\u6570\u3002\n", 
        "* \u5982\u679c\u6307\u4ee4\u9700\u8981\u5927\u5c0f\u4e3a `[4, 6]` \u7684\u5f20\u91cf\uff0c\u5219\u4ee5\u4e0b\u4efb\u4f55\u5927\u5c0f\u7684\u5f20\u91cf\u90fd\u53ef\u4ee5\u4f5c\u4e3a\u8fd0\u7b97\u6570\u3002\n", 
        "  * `[1, 6]`\n", 
        "  * `[6]`\n", 
        "  * `[]`\n", 
        "* \u5982\u679c\u6307\u4ee4\u9700\u8981\u5927\u5c0f\u4e3a `[3, 5, 6]` \u7684\u5f20\u91cf\uff0c\u5219\u4ee5\u4e0b\u4efb\u4f55\u5927\u5c0f\u7684\u5f20\u91cf\u90fd\u53ef\u4ee5\u4f5c\u4e3a\u8fd0\u7b97\u6570\u3002\n", 
        "\n", 
        "  * `[1, 5, 6]`\n", 
        "  * `[3, 1, 6]`\n", 
        "  * `[3, 5, 1]`\n", 
        "  * `[1, 1, 1]`\n", 
        "  * `[5, 6]`\n", 
        "  * `[1, 6]`\n", 
        "  * `[6]`\n", 
        "  * `[1]`\n", 
        "  * `[]`\n", 
        "  \n", 
        "**\u6ce8\u610f\uff1a**\u5f53\u5f20\u91cf\u88ab\u5e7f\u64ad\u65f6\uff0c\u4ece\u6982\u5ff5\u4e0a\u6765\u8bf4\uff0c\u7cfb\u7edf\u4f1a**\u590d\u5236**\u5176\u6761\u76ee\uff08\u51fa\u4e8e\u6027\u80fd\u8003\u8651\uff0c\u5b9e\u9645\u5e76\u4e0d\u590d\u5236\u3002\u5e7f\u64ad\u4e13\u4e3a\u5b9e\u73b0\u6027\u80fd\u4f18\u5316\u800c\u8bbe\u8ba1\uff09\u3002\n", 
        "\n", 
        "\u6709\u5173\u5b8c\u6574\u7684\u5e7f\u64ad\u89c4\u5219\u96c6\uff0c\u8bf7\u53c2\u9605\u7b80\u5355\u6613\u61c2\u7684 [Numpy \u5e7f\u64ad\u6587\u6863](http://docs.scipy.org/doc/numpy-1.10.1/user/basics.broadcasting.html)\u3002\n", 
        "\n", 
        "\u4ee5\u4e0b\u4ee3\u7801\u6267\u884c\u4e86\u4e0e\u4e4b\u524d\u4e00\u6837\u7684\u5f20\u91cf\u52a0\u6cd5\uff0c\u4e0d\u8fc7\u4f7f\u7528\u7684\u662f\u5e7f\u64ad\uff1a"
      ]
    }, 
    {
      "metadata": {
        "id": "7lys_BeLy2SD", 
        "colab_type": "code", 
        "colab": {
          "autoexec": {
            "startup": false, 
            "wait_interval": 0
          }
        }
      }, 
      "source": [
        "with tf.Graph().as_default():\n", 
        "  # Create a six-element vector (1-D tensor).\n", 
        "  primes = tf.constant([2, 3, 5, 7, 11, 13], dtype=tf.int32)\n", 
        "\n", 
        "  # Create a constant scalar with value 1.\n", 
        "  ones = tf.constant(1, dtype=tf.int32)\n", 
        "\n", 
        "  # Add the two tensors. The resulting tensor is a six-element vector.\n", 
        "  just_beyond_primes = tf.add(primes, ones)\n", 
        "\n", 
        "  with tf.Session() as sess:\n", 
        "    print just_beyond_primes.eval()"
      ], 
      "cell_type": "code", 
      "execution_count": 0, 
      "outputs": []
    }, 
    {
      "cell_type": "markdown", 
      "metadata": {
        "id": "it0P-AV0-Jb4", 
        "colab_type": "text"
      }, 
      "source": [
        " ## \u77e9\u9635\u4e58\u6cd5\n", 
        "\n", 
        "\u5728\u7ebf\u6027\u4ee3\u6570\u4e2d\uff0c\u5f53\u4e24\u4e2a\u77e9\u9635\u76f8\u4e58\u65f6\uff0c\u7b2c\u4e00\u4e2a\u77e9\u9635\u7684*\u5217*\u6570\u5fc5\u987b\u7b49\u4e8e\u7b2c\u4e8c\u4e2a\u77e9\u9635\u7684*\u884c*\u6570\u3002\n", 
        "\n", 
        "- `3x4` \u77e9\u9635\u4e58\u4ee5 `4x2` \u77e9\u9635\u662f**_\u6709\u6548_**\u7684\uff0c\u53ef\u4ee5\u5f97\u51fa\u4e00\u4e2a `3x2` \u77e9\u9635\u3002\n", 
        "- `4x2` \u77e9\u9635\u4e58\u4ee5 `3x4` \u77e9\u9635\u662f**_\u65e0\u6548_**\u7684\u3002"
      ]
    }, 
    {
      "metadata": {
        "id": "OVR8QPif-MeS", 
        "colab_type": "code", 
        "colab": {
          "autoexec": {
            "startup": false, 
            "wait_interval": 0
          }
        }
      }, 
      "source": [
        "with tf.Graph().as_default():\n", 
        "  # Create a matrix (2-d tensor) with 3 rows and 4 columns.\n", 
        "  x = tf.constant([[5, 2, 4, 3], [5, 1, 6, -2], [-1, 3, -1, -2]],\n", 
        "                  dtype=tf.int32)\n", 
        "\n", 
        "  # Create a matrix with 4 rows and 2 columns.\n", 
        "  y = tf.constant([[2, 2], [3, 5], [4, 5], [1, 6]], dtype=tf.int32)\n", 
        "\n", 
        "  # Multiply `x` by `y`. \n", 
        "  # The resulting matrix will have 3 rows and 2 columns.\n", 
        "  matrix_multiply_result = tf.matmul(x, y)\n", 
        "\n", 
        "  with tf.Session() as sess:\n", 
        "    print matrix_multiply_result.eval()"
      ], 
      "cell_type": "code", 
      "execution_count": 0, 
      "outputs": []
    }, 
    {
      "cell_type": "markdown", 
      "metadata": {
        "id": "fziRnmuy-O9x", 
        "colab_type": "text"
      }, 
      "source": [
        " ## \u5f20\u91cf\u53d8\u5f62\n", 
        "\n", 
        "\u7531\u4e8e\u5f20\u91cf\u52a0\u6cd5\u548c\u77e9\u9635\u4e58\u6cd5\u5747\u5bf9\u8fd0\u7b97\u6570\u65bd\u52a0\u4e86\u9650\u5236\u6761\u4ef6\uff0cTensorFlow \u7f16\u7a0b\u8005\u80af\u5b9a\u4f1a\u9891\u7e41\u6539\u53d8\u5f20\u91cf\u7684\u5f62\u72b6\u3002\n", 
        "\n", 
        "\u60a8\u53ef\u4ee5\u4f7f\u7528 `tf.reshape` \u65b9\u6cd5\u6539\u53d8\u5f20\u91cf\u7684\u5f62\u72b6\u3002\n", 
        "\u4f8b\u5982\uff0c\u60a8\u53ef\u4ee5\u5c06 8x2 \u5f20\u91cf\u53d8\u5f62\u4e3a 2x8 \u5f20\u91cf\u6216 4x4 \u5f20\u91cf\uff1a"
      ]
    }, 
    {
      "metadata": {
        "id": "L05ob6a_G77m", 
        "colab_type": "code", 
        "colab": {
          "autoexec": {
            "startup": false, 
            "wait_interval": 0
          }
        }
      }, 
      "source": [
        "with tf.Graph().as_default():\n", 
        "  # Create an 8x2 matrix (2-D tensor).\n", 
        "  matrix = tf.constant([[1,2], [3,4], [5,6], [7,8],\n", 
        "                        [9,10], [11,12], [13, 14], [15,16]], dtype=tf.int32)\n", 
        "\n", 
        "  # Reshape the 8x2 matrix into a 2x8 matrix.\n", 
        "  reshaped_2x8_matrix = tf.reshape(matrix, [2,8])\n", 
        "  \n", 
        "  # Reshape the 8x2 matrix into a 4x4 matrix\n", 
        "  reshaped_4x4_matrix = tf.reshape(matrix, [4,4])\n", 
        "\n", 
        "  with tf.Session() as sess:\n", 
        "    print \"Original matrix (8x2):\"\n", 
        "    print matrix.eval()\n", 
        "    print \"Reshaped matrix (2x8):\"\n", 
        "    print reshaped_2x8_matrix.eval()\n", 
        "    print \"Reshaped matrix (4x4):\"\n", 
        "    print reshaped_4x4_matrix.eval()"
      ], 
      "cell_type": "code", 
      "execution_count": 0, 
      "outputs": []
    }, 
    {
      "cell_type": "markdown", 
      "metadata": {
        "id": "b6cFa92YGyU5", 
        "colab_type": "text"
      }, 
      "source": [
        " \n", 
        "\u6b64\u5916\uff0c\u60a8\u8fd8\u53ef\u4ee5\u4f7f\u7528 `tf.reshape` \u66f4\u6539\u5f20\u91cf\u7684\u7ef4\u6570\uff08\\'\u9636\\'\uff09\u3002\n", 
        "\u4f8b\u5982\uff0c\u60a8\u53ef\u4ee5\u5c06 8x2 \u5f20\u91cf\u53d8\u5f62\u4e3a\u4e09\u7ef4 2x2x4 \u5f20\u91cf\u6216\u4e00\u7ef4 16 \u5143\u7d20\u5f20\u91cf\u3002"
      ]
    }, 
    {
      "metadata": {
        "id": "3MpcwWj9-Sqp", 
        "colab_type": "code", 
        "colab": {
          "autoexec": {
            "startup": false, 
            "wait_interval": 0
          }
        }
      }, 
      "source": [
        "with tf.Graph().as_default():\n", 
        "  # Create an 8x2 matrix (2-D tensor).\n", 
        "  matrix = tf.constant([[1,2], [3,4], [5,6], [7,8],\n", 
        "                        [9,10], [11,12], [13, 14], [15,16]], dtype=tf.int32)\n", 
        "\n", 
        "  # Reshape the 8x2 matrix into a 3-D 2x2x4 tensor.\n", 
        "  reshaped_2x2x4_tensor = tf.reshape(matrix, [2,2,4])\n", 
        "  \n", 
        "  # Reshape the 8x2 matrix into a 1-D 16-element tensor.\n", 
        "  one_dimensional_vector = tf.reshape(matrix, [16])\n", 
        "\n", 
        "  with tf.Session() as sess:\n", 
        "    print \"Original matrix (8x2):\"\n", 
        "    print matrix.eval()\n", 
        "    print \"Reshaped 3-D tensor (2x2x4):\"\n", 
        "    print reshaped_2x2x4_tensor.eval()\n", 
        "    print \"1-D vector:\"\n", 
        "    print one_dimensional_vector.eval()"
      ], 
      "cell_type": "code", 
      "execution_count": 0, 
      "outputs": []
    }, 
    {
      "cell_type": "markdown", 
      "metadata": {
        "id": "CrpowaWo-VLq", 
        "colab_type": "text"
      }, 
      "source": [
        " ### \u7ec3\u4e60 1\uff1a\u6539\u53d8\u4e24\u4e2a\u5f20\u91cf\u7684\u5f62\u72b6\uff0c\u4f7f\u5176\u80fd\u591f\u76f8\u4e58\u3002\n", 
        "\n", 
        "\u4e0b\u9762\u4e24\u4e2a\u77e2\u91cf\u65e0\u6cd5\u8fdb\u884c\u77e9\u9635\u4e58\u6cd5\u8fd0\u7b97\uff1a\n", 
        "\n", 
        "  *  `a = tf.constant([5, 3, 2, 7, 1, 4])`\n", 
        "  *  `b = tf.constant([4, 6, 3])`\n", 
        "\n", 
        "\u8bf7\u6539\u53d8\u8fd9\u4e24\u4e2a\u77e2\u91cf\u7684\u5f62\u72b6\uff0c\u4f7f\u5176\u6210\u4e3a\u53ef\u4ee5\u8fdb\u884c\u77e9\u9635\u4e58\u6cd5\u8fd0\u7b97\u7684\u8fd0\u7b97\u6570\u3002\n", 
        "\u7136\u540e\uff0c\u5bf9\u53d8\u5f62\u540e\u7684\u5f20\u91cf\u8c03\u7528\u77e9\u9635\u4e58\u6cd5\u8fd0\u7b97\u3002"
      ]
    }, 
    {
      "metadata": {
        "id": "p6idvaeK-Zxq", 
        "colab_type": "code", 
        "colab": {
          "autoexec": {
            "startup": false, 
            "wait_interval": 0
          }
        }
      }, 
      "source": [
        "  # Write your code for Task 1 here."
      ], 
      "cell_type": "code", 
      "execution_count": 0, 
      "outputs": []
    }, 
    {
      "cell_type": "markdown", 
      "metadata": {
        "id": "EYzU56M4MG_x", 
        "colab_type": "text"
      }, 
      "source": [
        " ### \u89e3\u51b3\u65b9\u6848\n", 
        "\n", 
        "\u70b9\u51fb\u4e0b\u65b9\uff0c\u67e5\u770b\u89e3\u51b3\u65b9\u6848\u3002"
      ]
    }, 
    {
      "metadata": {
        "id": "8Sef4d0SMMtk", 
        "colab_type": "code", 
        "colab": {
          "autoexec": {
            "startup": false, 
            "wait_interval": 0
          }
        }
      }, 
      "source": [
        "with tf.Graph().as_default(), tf.Session() as sess:\n", 
        "  # Task: Reshape two tensors in order to multiply them\n", 
        "  \n", 
        "  # Here are the original operands, which are incompatible\n", 
        "  # for matrix multiplication:\n", 
        "  a = tf.constant([5, 3, 2, 7, 1, 4])\n", 
        "  b = tf.constant([4, 6, 3])\n", 
        "  # We need to reshape at least one of these operands so that\n", 
        "  # the number of columns in the first operand equals the number\n", 
        "  # of rows in the second operand.\n", 
        "\n", 
        "  # Reshape vector \"a\" into a 2-D 2x3 matrix:\n", 
        "  reshaped_a = tf.reshape(a, [2,3])\n", 
        "\n", 
        "  # Reshape vector \"b\" into a 2-D 3x1 matrix:\n", 
        "  reshaped_b = tf.reshape(b, [3,1])\n", 
        "\n", 
        "  # The number of columns in the first matrix now equals\n", 
        "  # the number of rows in the second matrix. Therefore, you\n", 
        "  # can matrix mutiply the two operands.\n", 
        "  c = tf.matmul(reshaped_a, reshaped_b)\n", 
        "  print(c.eval())\n", 
        "\n", 
        "  # An alternate approach: [6,1] x [1, 3] -> [6,3]"
      ], 
      "cell_type": "code", 
      "execution_count": 0, 
      "outputs": []
    }, 
    {
      "cell_type": "markdown", 
      "metadata": {
        "id": "x1JYo7iE2oKk", 
        "colab_type": "text"
      }, 
      "source": [
        " ## \u53d8\u91cf\u3001\u521d\u59cb\u5316\u548c\u8d4b\u503c\n", 
        "\n", 
        "\u5230\u76ee\u524d\u4e3a\u6b62\uff0c\u6211\u4eec\u6267\u884c\u7684\u6240\u6709\u8fd0\u7b97\u90fd\u662f\u9488\u5bf9\u9759\u6001\u503c (`tf.constant`) \u8fdb\u884c\u7684\uff1b\u8c03\u7528 `eval()` \u59cb\u7ec8\u8fd4\u56de\u540c\u4e00\u7ed3\u679c\u3002\u5728 TensorFlow \u4e2d\u53ef\u4ee5\u5b9a\u4e49 `Variable` \u5bf9\u8c61\uff0c\u5b83\u7684\u503c\u662f\u53ef\u4ee5\u66f4\u6539\u7684\u3002\n", 
        "\n", 
        "\u521b\u5efa\u53d8\u91cf\u65f6\uff0c\u60a8\u53ef\u4ee5\u660e\u786e\u8bbe\u7f6e\u4e00\u4e2a\u521d\u59cb\u503c\uff0c\u4e5f\u53ef\u4ee5\u4f7f\u7528\u521d\u59cb\u5316\u7a0b\u5e8f\uff08\u4f8b\u5982\u5206\u5e03\uff09\uff1a"
      ]
    }, 
    {
      "metadata": {
        "id": "6opLnjfD3PdL", 
        "colab_type": "code", 
        "colab": {
          "autoexec": {
            "startup": false, 
            "wait_interval": 0
          }
        }
      }, 
      "source": [
        "g = tf.Graph()\n", 
        "with g.as_default():\n", 
        "  # Create a variable with the initial value 3.\n", 
        "  v = tf.Variable([3])\n", 
        "\n", 
        "  # Create a variable of shape [1], with a random initial value,\n", 
        "  # sampled from a normal distribution with mean 1 and standard deviation 0.35.\n", 
        "  w = tf.Variable(tf.random_normal([1], mean=1.0, stddev=0.35))"
      ], 
      "cell_type": "code", 
      "execution_count": 0, 
      "outputs": []
    }, 
    {
      "cell_type": "markdown", 
      "metadata": {
        "id": "qDYRXHTA4PTB", 
        "colab_type": "text"
      }, 
      "source": [
        " TensorFlow \u7684\u4e00\u4e2a\u7279\u6027\u662f**\u53d8\u91cf\u521d\u59cb\u5316\u4e0d\u662f\u81ea\u52a8\u8fdb\u884c\u7684**\u3002\u4f8b\u5982\uff0c\u4ee5\u4e0b\u4ee3\u7801\u5757\u4f1a\u5bfc\u81f4\u9519\u8bef\uff1a"
      ]
    }, 
    {
      "metadata": {
        "id": "d0OX1YRY5PTP", 
        "colab_type": "code", 
        "colab": {
          "autoexec": {
            "startup": false, 
            "wait_interval": 0
          }
        }
      }, 
      "source": [
        "with g.as_default():\n", 
        "  with tf.Session() as sess:\n", 
        "    try:\n", 
        "      v.eval()\n", 
        "    except tf.errors.FailedPreconditionError as e:\n", 
        "      print \"Caught expected error: \", e"
      ], 
      "cell_type": "code", 
      "execution_count": 0, 
      "outputs": []
    }, 
    {
      "cell_type": "markdown", 
      "metadata": {
        "id": "v7_aT7Hr5rnC", 
        "colab_type": "text"
      }, 
      "source": [
        " \u8981\u521d\u59cb\u5316\u53d8\u91cf\uff0c\u6700\u7b80\u5355\u7684\u65b9\u5f0f\u662f\u8c03\u7528 `global_variables_initializer`\u3002\u8bf7\u6ce8\u610f `Session.run()` \u7684\u7528\u6cd5\uff08\u4e0e `eval()` \u7684\u7528\u6cd5\u5927\u81f4\u76f8\u540c\uff09\u3002"
      ]
    }, 
    {
      "metadata": {
        "id": "z2lvhrxI5zJF", 
        "colab_type": "code", 
        "colab": {
          "autoexec": {
            "startup": false, 
            "wait_interval": 0
          }
        }
      }, 
      "source": [
        "with g.as_default():\n", 
        "  with tf.Session() as sess:\n", 
        "    initialization = tf.global_variables_initializer()\n", 
        "    sess.run(initialization)\n", 
        "    # Now, variables can be accessed normally, and have values assigned to them.\n", 
        "    print v.eval()\n", 
        "    print w.eval()\n"
      ], 
      "cell_type": "code", 
      "execution_count": 0, 
      "outputs": []
    }, 
    {
      "cell_type": "markdown", 
      "metadata": {
        "id": "0GkYh7jf6JUd", 
        "colab_type": "text"
      }, 
      "source": [
        " \u521d\u59cb\u5316\u540e\uff0c\u53d8\u91cf\u7684\u503c\u4fdd\u7559\u5728\u540c\u4e00\u4f1a\u8bdd\u4e2d\uff08\u4e0d\u8fc7\uff0c\u5f53\u60a8\u542f\u52a8\u65b0\u4f1a\u8bdd\u65f6\uff0c\u9700\u8981\u91cd\u65b0\u521d\u59cb\u5316\u5b83\u4eec\uff09\uff1a"
      ]
    }, 
    {
      "metadata": {
        "id": "_E8_lhS06IoV", 
        "colab_type": "code", 
        "colab": {
          "autoexec": {
            "startup": false, 
            "wait_interval": 0
          }
        }
      }, 
      "source": [
        "with g.as_default():\n", 
        "  with tf.Session() as sess:\n", 
        "    sess.run(tf.global_variables_initializer())\n", 
        "    # These three prints will print the same value.\n", 
        "    print w.eval()\n", 
        "    print w.eval()\n", 
        "    print w.eval()"
      ], 
      "cell_type": "code", 
      "execution_count": 0, 
      "outputs": []
    }, 
    {
      "cell_type": "markdown", 
      "metadata": {
        "id": "yrZ31hPw66uy", 
        "colab_type": "text"
      }, 
      "source": [
        " \u8981\u66f4\u6539\u53d8\u91cf\u7684\u503c\uff0c\u8bf7\u4f7f\u7528 `assign` \u6307\u4ee4\u3002\u8bf7\u6ce8\u610f\uff0c\u4ec5\u521b\u5efa `assign` \u6307\u4ee4\u4e0d\u4f1a\u8d77\u5230\u4efb\u4f55\u4f5c\u7528\u3002\u548c\u521d\u59cb\u5316\u4e00\u6837\uff0c\u60a8\u5fc5\u987b`\u8fd0\u884c`\u8d4b\u503c\u6307\u4ee4\u624d\u80fd\u66f4\u65b0\u53d8\u91cf\u503c\uff1a"
      ]
    }, 
    {
      "metadata": {
        "id": "zD0D1DCR7NBX", 
        "colab_type": "code", 
        "colab": {
          "autoexec": {
            "startup": false, 
            "wait_interval": 0
          }
        }
      }, 
      "source": [
        "with g.as_default():\n", 
        "  with tf.Session() as sess:\n", 
        "    sess.run(tf.global_variables_initializer())\n", 
        "    # This should print the variable's initial value.\n", 
        "    print v.eval()\n", 
        "\n", 
        "    assignment = tf.assign(v, [7])\n", 
        "    # The variable has not been changed yet!\n", 
        "    print v.eval()\n", 
        "\n", 
        "    # Execute the assignment op.\n", 
        "    sess.run(assignment)\n", 
        "    # Now the variable is updated.\n", 
        "    print v.eval()"
      ], 
      "cell_type": "code", 
      "execution_count": 0, 
      "outputs": []
    }, 
    {
      "cell_type": "markdown", 
      "metadata": {
        "id": "tB78Zq4h78Zr", 
        "colab_type": "text"
      }, 
      "source": [
        " \u8fd8\u6709\u5f88\u591a\u5173\u4e8e\u53d8\u91cf\u7684\u5185\u5bb9\u6211\u4eec\u5e76\u672a\u5728\u8fd9\u91cc\u63d0\u53ca\uff0c\u4f8b\u5982\u52a0\u8f7d\u548c\u5b58\u50a8\u3002\u8981\u4e86\u89e3\u8be6\u60c5\uff0c\u8bf7\u53c2\u9605 [TensorFlow \u6587\u6863](https://www.tensorflow.org/programmers_guide/variables)\u3002"
      ]
    }, 
    {
      "cell_type": "markdown", 
      "metadata": {
        "id": "iFIOcnfz_Oqw", 
        "colab_type": "text"
      }, 
      "source": [
        " ### \u7ec3\u4e60 2\uff1a\u6a21\u62df\u6295\u63b7\u4e24\u4e2a\u9ab0\u5b50 10 \u6b21\u3002\n", 
        "\n", 
        "\u521b\u5efa\u4e00\u4e2a\u9ab0\u5b50\u6a21\u62df\uff0c\u5728\u6a21\u62df\u4e2d\u751f\u6210\u4e00\u4e2a `10x3` \u4e8c\u7ef4\u5f20\u91cf\uff0c\u5176\u4e2d\uff1a\n", 
        "\n", 
        "  * \u5217 `1` \u548c `2` \u5747\u5b58\u50a8\u4e00\u4e2a\u9ab0\u5b50\u7684\u4e00\u6b21\u6295\u63b7\u503c\u3002\n", 
        "  * \u5217 `3` \u5b58\u50a8\u540c\u4e00\u884c\u4e2d\u5217 `1` \u548c `2` \u7684\u503c\u7684\u603b\u548c\u3002\n", 
        "\n", 
        "\u4f8b\u5982\uff0c\u7b2c\u4e00\u884c\u4e2d\u53ef\u80fd\u4f1a\u5305\u542b\u4ee5\u4e0b\u503c\uff1a\n", 
        "\n", 
        "  * \u5217 `1` \u5b58\u50a8 `4`\n", 
        "  * \u5217 `2` \u5b58\u50a8 `3`\n", 
        "  * \u5217 `3` \u5b58\u50a8 `7`\n", 
        "\n", 
        "\u8981\u5b8c\u6210\u6b64\u4efb\u52a1\uff0c\u60a8\u9700\u8981\u6d4f\u89c8 [TensorFlow \u6587\u6863](https://www.tensorflow.org/api_guides/python/array_ops)\u3002"
      ]
    }, 
    {
      "metadata": {
        "id": "ocwT0iXH-nhT", 
        "colab_type": "code", 
        "colab": {
          "autoexec": {
            "startup": false, 
            "wait_interval": 0
          }
        }
      }, 
      "source": [
        "# Write your code for Task 2 here."
      ], 
      "cell_type": "code", 
      "execution_count": 0, 
      "outputs": []
    }, 
    {
      "cell_type": "markdown", 
      "metadata": {
        "id": "Kt7aojXkR_qS", 
        "colab_type": "text"
      }, 
      "source": [
        " ### \u89e3\u51b3\u65b9\u6848\n", 
        "\n", 
        "\u70b9\u51fb\u4e0b\u65b9\uff0c\u67e5\u770b\u89e3\u51b3\u65b9\u6848\u3002"
      ]
    }, 
    {
      "metadata": {
        "id": "6UUluecQSCvr", 
        "colab_type": "code", 
        "colab": {
          "autoexec": {
            "startup": false, 
            "wait_interval": 0
          }
        }
      }, 
      "source": [
        "with tf.Graph().as_default(), tf.Session() as sess:\n", 
        "  # Task 2: Simulate 10 throws of two dice. Store the results\n", 
        "  # in a 10x3 matrix.\n", 
        "\n", 
        "  # We're going to place dice throws inside two separate\n", 
        "  # 10x1 matrices. We could have placed dice throws inside\n", 
        "  # a single 10x2 matrix, but adding different columns of\n", 
        "  # the same matrix is tricky. We also could have placed\n", 
        "  # dice throws inside two 1-D tensors (vectors); doing so\n", 
        "  # would require transposing the result.\n", 
        "  dice1 = tf.Variable(tf.random_uniform([10, 1],\n", 
        "                                        minval=1, maxval=7,\n", 
        "                                        dtype=tf.int32))\n", 
        "  dice2 = tf.Variable(tf.random_uniform([10, 1],\n", 
        "                                        minval=1, maxval=7,\n", 
        "                                        dtype=tf.int32))\n", 
        "\n", 
        "  # We may add dice1 and dice2 since they share the same shape\n", 
        "  # and size.\n", 
        "  dice_sum = tf.add(dice1, dice2)\n", 
        "\n", 
        "  # We've got three separate 10x1 matrices. To produce a single\n", 
        "  # 10x3 matrix, we'll concatenate them along dimension 1.\n", 
        "  resulting_matrix = tf.concat(\n", 
        "      values=[dice1, dice2, dice_sum], axis=1)\n", 
        "\n", 
        "  # The variables haven't been initialized within the graph yet,\n", 
        "  # so let's remedy that.\n", 
        "  sess.run(tf.global_variables_initializer())\n", 
        "\n", 
        "  print(resulting_matrix.eval())"
      ], 
      "cell_type": "code", 
      "execution_count": 0, 
      "outputs": []
    }
  ]
}