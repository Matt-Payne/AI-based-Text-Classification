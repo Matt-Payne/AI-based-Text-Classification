{
"nbformat": 4,
"nbformat_minor": 0,
"metadata": {
"colab": {
"name": "hello_world.ipynb",
"version": "0.3.2",
"views": {},
"default_view": {},
"collapsed_sections": ["JndnmDMp66FL"]
}
},
"cells": [
{
      "metadata": {
        "id": "JndnmDMp66FL",
        "colab_type": "text"
      },
      "source": [
        "#### Copyright 2017 Google LLC."
      ],
      "cell_type": "markdown"
    },
    {
      "metadata": {
        "id": "hMqWDc_m6rUC",
        "colab_type": "code",
        "colab": {
          "autoexec": {
            "startup": false,
            "wait_interval": 0
          }
        },
        "cellView": "both"
      },
      "source": [
        "# Licensed under the Apache License, Version 2.0 (the \"License\");\n",
        "# you may not use this file except in compliance with the License.\n",
        "# You may obtain a copy of the License at\n",
        "#\n",
        "# https://www.apache.org/licenses/LICENSE-2.0\n",
        "#\n",
        "# Unless required by applicable law or agreed to in writing, software\n",
        "# distributed under the License is distributed on an \"AS IS\" BASIS,\n",
        "# WITHOUT WARRANTIES OR CONDITIONS OF ANY KIND, either express or implied.\n",
        "# See the License for the specific language governing permissions and\n",
        "# limitations under the License."
      ],
      "cell_type": "code",
      "execution_count": 0,
      "outputs": []
},
{
"cell_type": "markdown",
"metadata": {
"id": "cH-YtyZs7Gcg",
"colab_type": "text"
},
"source": [
" # Travail préalable : Hello World"]},
{
"cell_type": "markdown",
"metadata": {
"id": "r0QBC2kTixPn",
"colab_type": "text"
},
"source": [
" **Objectif de formation** : Exécuter un programme TensorFlow dans le navigateur."]},
{
"cell_type": "markdown",
"metadata": {
"id": "33fL46pgixPo",
"colab_type": "text"
},
"source": [
" Voici un programme TensorFlow \"Hello World\" :"]},
{
"metadata": {
"id": "bRuPN7qo7ICp",
"colab_type": "code",
"colab": {
"autoexec": {
"startup": false,
"wait_interval": 0
}
},
"cellView": "both"
},
"source": [
"import tensorflow as tf\n",
"\n",
"c = tf.constant('Hello, world!')\n",
"\n",
"with tf.Session() as sess:\n",
"\n",
"    print sess.run(c)"
],
"cell_type": "code",
"execution_count": 0,
"outputs": []
},
{
"cell_type": "markdown",
"metadata": {
"id": "Bl1nAshab6m5",
"colab_type": "text"
},
"source": [
" ## Pour exécuter ce programme\n",
"\n",
"  1. Cliquez n'importe où dans le bloc de code (sur le mot `import`, par exemple).\n",
"\n",
"  2. Cliquez sur la flèche vers la droite dans l'angle supérieur gauche du bloc de code, ou appuyez sur ⌘/Ctrl+Entrée.\n",
"\n",
"     Patientez quelques secondes avant que le programme s'exécute. Si tout se passe bien, la phrase `Hello, world!` s'affiche juste en dessous du bloc de code.\n",
"\n",
"Ce programme contient un seul bloc de code. La plupart des programmes utilisés dans les exercices incluent plusieurs blocs, que vous devrez **exécuter un à un et dans l'ordre, en partant du haut vers le bas**. \n",
"\n",
"En général, le fait de ne pas respecter l'ordre d'exécution des blocs de code génère des erreurs."]},
{
"cell_type": "markdown",
"metadata": {
"id": "UpzZ0Gv-uKf_",
"colab_type": "text"
},
"source": [
" ## Raccourcis clavier utiles\n",
"\n",
"* **⌘/Ctrl+M,B** : crée une cellule de code vide sous la cellule sélectionnée.\n",
"* **⌘/Ctrl+M,I** : interrompt l'exécution de la cellule active.\n",
"* **⌘/Ctrl+M,H** : affiche la liste complète des raccourcis clavier.\n",
"* Pour en savoir plus sur une méthode de l'API TensorFlow, positionnez le curseur de la souris après sa parenthèse ouvrante, puis appuyez sur la touche **Tab** :\n",
"\n",
"![Documentation sur la fenêtre pop-up concernant la méthode TensorFlow tf.constant](https://storage.googleapis.com/mledu-images/tf_constant_pop_up_doc.png)"]}
]
}
